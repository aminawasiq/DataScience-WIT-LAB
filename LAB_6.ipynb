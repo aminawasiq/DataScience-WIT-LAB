{
  "nbformat": 4,
  "nbformat_minor": 0,
  "metadata": {
    "colab": {
      "provenance": []
    },
    "kernelspec": {
      "name": "python3",
      "display_name": "Python 3"
    },
    "language_info": {
      "name": "python"
    }
  },
  "cells": [
    {
      "cell_type": "markdown",
      "source": [
        "# **Correlation Matrix**\n",
        "\n",
        "A correlation matrix is a table showing correlation coefficients between variables. Each cell in the table shows the correlation between two variables. The value is typically between -1 and 1. Here's a brief breakdown of the components and purpose of a correlation matrix:\n",
        "\n",
        "1. **Correlation Coefficient**: A measure of the linear relationship between two variables, denoted by \\(r\\). It ranges from -1 to 1:\n",
        "   - \\( r = 1 \\): Perfect positive correlation.\n",
        "   - \\( r = -1 \\): Perfect negative correlation.\n",
        "   - \\( r = 0 \\): No correlation.\n",
        "\n",
        "2. **Matrix Structure**:\n",
        "   - The matrix is symmetric, meaning the correlation between \\(X\\) and \\(Y\\) is the same as the correlation between \\(Y\\) and \\(X\\).\n",
        "   - The diagonal elements are always 1, as they represent the correlation of a variable with itself.\n",
        "\n",
        "3. **Uses**:\n",
        "   - **Data Analysis**: Identifying relationships between variables.\n",
        "   - **Feature Selection**: In machine learning, to identify and eliminate highly correlated features which may cause multicollinearity.\n",
        "   - **Portfolio Management**: In finance, to assess the diversification of assets.\n",
        "\n",
        "### Example\n",
        "Consider a dataset with three variables: \\(X\\), \\(Y\\), and \\(Z\\).\n",
        "\n",
        "|     | \\(X\\) | \\(Y\\) | \\(Z\\) |\n",
        "|-----|-------|-------|-------|\n",
        "| \\(X\\) | 1     | 0.8   | -0.3  |\n",
        "| \\(Y\\) | 0.8   | 1     | 0.1   |\n",
        "| \\(Z\\) | -0.3  | 0.1   | 1     |\n",
        "\n",
        "In this example:\n",
        "- The correlation between \\(X\\) and \\(Y\\) is 0.8.\n",
        "- The correlation between \\(X\\) and \\(Z\\) is -0.3.\n",
        "- The correlation between \\(Y\\) and \\(Z\\) is 0.1.\n"
      ],
      "metadata": {
        "id": "UrAnqjL5_8Qs"
      }
    },
    {
      "cell_type": "code",
      "source": [
        "import pandas as pd\n",
        "import seaborn as sns\n",
        "import matplotlib.pyplot as plt\n",
        "import numpy as np"
      ],
      "metadata": {
        "id": "Vpxet6xJAyXo"
      },
      "execution_count": 9,
      "outputs": []
    },
    {
      "cell_type": "markdown",
      "source": [
        "In Python, you can compute correlation coefficients using various methods. Some common methods are available through libraries like NumPy, pandas, and SciPy. Here's a brief overview of each:\n",
        "\n",
        "\n",
        "**1. pandas:** The corr() method of a pandas DataFrame computes the correlation matrix. It returns a DataFrame where each cell contains the correlation coefficient between the corresponding variables."
      ],
      "metadata": {
        "id": "B2DbCuTyBGb4"
      }
    },
    {
      "cell_type": "code",
      "execution_count": 10,
      "metadata": {
        "colab": {
          "base_uri": "https://localhost:8080/"
        },
        "id": "EWnOwCpR_kt2",
        "outputId": "15f2a1bd-9fd4-4052-c386-9e81174041bb"
      },
      "outputs": [
        {
          "output_type": "stream",
          "name": "stdout",
          "text": [
            "          X         Y         Z\n",
            "X  1.000000  0.774597 -0.530330\n",
            "Y  0.774597  1.000000 -0.798762\n",
            "Z -0.530330 -0.798762  1.000000\n"
          ]
        }
      ],
      "source": [
        "# Sample data\n",
        "data = {\n",
        "    'X': [1, 2, 3, 4, 5],\n",
        "    'Y': [2, 4, 5, 4, 5],\n",
        "    'Z': [5, 3, 2, 5, 1]\n",
        "}\n",
        "\n",
        "# Create DataFrame\n",
        "df = pd.DataFrame(data)\n",
        "\n",
        "# Compute correlation matrix\n",
        "correlation_matrix = df.corr()\n",
        "\n",
        "print(correlation_matrix)\n"
      ]
    },
    {
      "cell_type": "markdown",
      "source": [
        "**2. NumPy:** The corrcoef() function from the NumPy library calculates the Pearson correlation coefficients between variables. It returns a matrix of correlation coefficients."
      ],
      "metadata": {
        "id": "5ndx-snCBhNA"
      }
    },
    {
      "cell_type": "code",
      "source": [
        "# Sample data\n",
        "data = np.array([[1, 2, 5],\n",
        "                 [2, 4, 3],\n",
        "                 [3, 5, 2]])\n",
        "\n",
        "# Compute correlation matrix\n",
        "correlation_matrix = np.corrcoef(data)\n",
        "\n",
        "print(correlation_matrix)\n"
      ],
      "metadata": {
        "colab": {
          "base_uri": "https://localhost:8080/"
        },
        "id": "F3xsBz-DB8EK",
        "outputId": "eaa422b7-d5c5-4fab-d950-acc4a29ce9f0"
      },
      "execution_count": 11,
      "outputs": [
        {
          "output_type": "stream",
          "name": "stdout",
          "text": [
            "[[ 1.          0.24019223 -0.57655666]\n",
            " [ 0.24019223  1.          0.65465367]\n",
            " [-0.57655666  0.65465367  1.        ]]\n"
          ]
        }
      ]
    },
    {
      "cell_type": "markdown",
      "source": [
        "## **Correlation matrix as a chart**\n",
        "\n",
        "A heatmap is a graphical representation of data where values in a matrix are represented as colors. Heatmaps are commonly used to visualize correlation matrices, but they can represent any type of two-dimensional data.\n",
        "\n",
        "In a heatmap:\n",
        "\n",
        "1. **Colors**: Each cell in the matrix is assigned a color based on its value. Typically, a gradient of colors is used, where different shades represent different ranges of values.\n",
        "\n",
        "2. **Color Intensity**: The intensity of the color corresponds to the value in the cell. Higher values are represented by darker or brighter colors, depending on the chosen color scheme.\n",
        "\n",
        "3. **Annotations**: Heatmaps often include annotations within each cell, displaying the actual numerical value represented by the color.\n",
        "\n",
        "4. **Axes**: The heatmap typically has labeled axes, representing the rows and columns of the matrix.\n",
        "\n",
        "Heatmaps are useful for quickly identifying patterns and trends in large datasets, especially when dealing with multivariate data or correlation matrices. They provide a visual summary of the data that can reveal relationships and clusters that might not be immediately obvious from the raw numbers.\n",
        "\n",
        "### Example:\n",
        "\n",
        "Consider the following correlation matrix:\n",
        "\n",
        "```\n",
        "|     | A    | B    | C    |\n",
        "|-----|------|------|------|\n",
        "| A   | 1.00 | 0.80 | 0.30 |\n",
        "| B   | 0.80 | 1.00 | 0.20 |\n",
        "| C   | 0.30 | 0.20 | 1.00 |\n",
        "```\n",
        "\n",
        "When visualized as a heatmap, the cells would be colored based on their correlation coefficient values, creating a visual representation of the relationships between variables.\n",
        "\n",
        "In Python, you can create a heatmap using libraries like Seaborn or Matplotlib. The heatmap function in Seaborn provides a simple way to create aesthetically pleasing heatmaps with just a few lines of code."
      ],
      "metadata": {
        "id": "-NPBqe_aC0Lp"
      }
    },
    {
      "cell_type": "code",
      "source": [
        "# Sample data\n",
        "data = {\n",
        "    'X': [1, 2, 3, 4, 5],\n",
        "    'Y': [2, 4, 5, 4, 5],\n",
        "    'Z': [5, 3, 2, 5, 1]\n",
        "}\n",
        "\n",
        "# Create DataFrame\n",
        "df = pd.DataFrame(data)\n",
        "\n",
        "# Compute correlation matrix\n",
        "correlation_matrix = df.corr()\n",
        "\n",
        "# Plot heatmap\n",
        "plt.figure(figsize=(8, 6))\n",
        "sns.heatmap(correlation_matrix, annot=True, cmap='coolwarm', fmt=\".2f\", square=True)\n",
        "plt.title('Correlation Matrix')\n",
        "plt.show()\n"
      ],
      "metadata": {
        "colab": {
          "base_uri": "https://localhost:8080/",
          "height": 545
        },
        "id": "w_-LCQnAAwCx",
        "outputId": "04e4e799-c96b-4bf5-a8af-8287a385a0da"
      },
      "execution_count": 5,
      "outputs": [
        {
          "output_type": "display_data",
          "data": {
            "text/plain": [
              "<Figure size 800x600 with 2 Axes>"
            ],
            "image/png": "[encoded data removed]"
          },
          "metadata": {}
        }
      ]
    }
  ]
}